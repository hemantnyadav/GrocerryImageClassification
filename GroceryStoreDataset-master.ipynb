{
 "cells": [
  {
   "cell_type": "code",
   "execution_count": 1,
   "metadata": {},
   "outputs": [
    {
     "name": "stderr",
     "output_type": "stream",
     "text": [
      "Using TensorFlow backend.\n"
     ]
    }
   ],
   "source": [
    "import numpy as np\n",
    "import pickle\n",
    "import cv2\n",
    "import os\n",
    "from os import listdir\n",
    "from keras.preprocessing import image\n",
    "from keras.preprocessing.image import img_to_array\n",
    "from sklearn.preprocessing import LabelBinarizer\n",
    "from sklearn.preprocessing import MultiLabelBinarizer\n",
    "import matplotlib.pyplot as plt\n",
    "import pandas as pd"
   ]
  },
  {
   "cell_type": "code",
   "execution_count": 2,
   "metadata": {},
   "outputs": [],
   "source": [
    "default_image_size = tuple((348, 348))\n",
    "## Function to convert image to array of 348 X 348\n",
    "def convert_image_to_array(image_dir):\n",
    "    try:\n",
    "        image = cv2.imread(image_dir)\n",
    "        if image is not None :\n",
    "            image = cv2.resize(image, default_image_size)   \n",
    "            return img_to_array(image)\n",
    "        else :\n",
    "            return np.array([])\n",
    "    except Exception as e:\n",
    "        print(f\"Error : {e}\")\n",
    "        return None"
   ]
  },
  {
   "cell_type": "code",
   "execution_count": 3,
   "metadata": {},
   "outputs": [],
   "source": [
    "image_list_a, label_list = [], []\n",
    "\n",
    "totalImage = 0  # it is used to control total numbe of images for each class\n",
    "\n",
    "root_dir = listdir(\"GroceryStoreDataset-master/dataset/test\") # Specify location of plant images\n",
    "\n",
    "for image_folder in root_dir :  # Look for each folder\n",
    "    # Look for All images in each folder\n",
    "    \n",
    "    \n",
    "    image_list = listdir(f\"GroceryStoreDataset-master/dataset/test/{image_folder}\")\n",
    "    \n",
    "    for image in image_list:\n",
    "               \n",
    "        image_sub_cat = listdir(f\"GroceryStoreDataset-master/dataset/test/{image_folder}/{image}\")\n",
    "    \n",
    "        for image_sub_cat_name in image_sub_cat:\n",
    "        \n",
    "            #print(image_sub_cat_name)\n",
    "            path  = f\"GroceryStoreDataset-master/dataset/test/{image_folder}/{image}/{image_sub_cat_name}\"\n",
    "            if os.path.isdir(path):  \n",
    "                image_sub_cat_name_jpg = listdir(f\"GroceryStoreDataset-master/dataset/test/{image_folder}/{image}/{image_sub_cat_name}\")\n",
    "                for image_name in image_sub_cat_name_jpg:\n",
    "                    #print(image_name)\n",
    "                    if image_name.endswith(\".jpg\") == True or image_name.endswith(\".JPG\") == True:\n",
    "                        image_full_path = f\"GroceryStoreDataset-master/dataset/test/{image_folder}/{image}/{image_sub_cat_name}/{image_name}\"\n",
    "                        image_list_a.append(convert_image_to_array(image_full_path))\n",
    "                    \n",
    "            if os.path.isfile(path):\n",
    "                #print(image_sub_cat_name)\n",
    "                if image_sub_cat_name.endswith(\".jpg\") == True or image_sub_cat_name.endswith(\".JPG\") == True:\n",
    "                        image_full_path = f\"GroceryStoreDataset-master/dataset/test/{image_folder}/{image}/{image_sub_cat_name}\"\n",
    "                        image_list_a.append(convert_image_to_array(image_full_path))\n",
    "                \n",
    "            \n",
    "            #image_sub_cat_name_jpg = listdir(f\"GroceryStoreDataset-master/dataset/test/{image_folder}/{image}/{image_sub_cat_name}\")\n",
    "            #for image_name in image_sub_cat_name_jpg:\n",
    "            #    print(image_name)\n",
    "            \n",
    "            \n",
    "        '''\n",
    "        image_name = f\"PlantVillage/{image_folder}/\"+image\n",
    "        if isinstance(image_name, str) == True:\n",
    "            if image_name.endswith(\".jpg\") == True or image_name.endswith(\".JPG\") == True:\n",
    "                image_list_a.append(convert_image_to_array(image_name))\n",
    "                label_list.append(image_folder)\n",
    "        totalImage = totalImage+1\n",
    "        if(totalImage>=20):          \n",
    "            break\n",
    "       '''     \n",
    "#print(len(label_list),len(np.unique(np.asarray(label_list))))\n"
   ]
  },
  {
   "cell_type": "code",
   "execution_count": null,
   "metadata": {},
   "outputs": [],
   "source": [
    "image_list_a = np.asarray(image_list_a)"
   ]
  },
  {
   "cell_type": "code",
   "execution_count": 5,
   "metadata": {},
   "outputs": [
    {
     "data": {
      "text/plain": [
       "(2485, 348, 348, 3)"
      ]
     },
     "execution_count": 5,
     "metadata": {},
     "output_type": "execute_result"
    }
   ],
   "source": [
    "image_list_a.shape"
   ]
  }
 ],
 "metadata": {
  "kernelspec": {
   "display_name": "Python 3",
   "language": "python",
   "name": "python3"
  },
  "language_info": {
   "codemirror_mode": {
    "name": "ipython",
    "version": 3
   },
   "file_extension": ".py",
   "mimetype": "text/x-python",
   "name": "python",
   "nbconvert_exporter": "python",
   "pygments_lexer": "ipython3",
   "version": "3.7.1"
  }
 },
 "nbformat": 4,
 "nbformat_minor": 2
}
