{
 "cells": [
  {
   "cell_type": "code",
   "execution_count": 18,
   "metadata": {},
   "outputs": [
    {
     "name": "stderr",
     "output_type": "stream",
     "text": [
      "Using TensorFlow backend.\n"
     ]
    }
   ],
   "source": [
    "import numpy as np\n",
    "import pickle\n",
    "import cv2\n",
    "import os\n",
    "from os import listdir\n",
    "from keras.preprocessing import image\n",
    "from keras.preprocessing.image import img_to_array\n",
    "from sklearn.preprocessing import LabelBinarizer\n",
    "from sklearn.preprocessing import MultiLabelBinarizer\n",
    "import matplotlib.pyplot as plt\n",
    "import pandas as pd"
   ]
  },
  {
   "cell_type": "code",
   "execution_count": 25,
   "metadata": {},
   "outputs": [],
   "source": [
    "default_image_size = tuple((348, 348))\n",
    "## Function to convert image to array of 348 X 348\n",
    "def convert_image_to_array(image_dir):\n",
    "    try:\n",
    "        image = cv2.imread(image_dir)\n",
    "        if image is not None :\n",
    "            image = cv2.resize(image, default_image_size)   \n",
    "            return img_to_array(image)\n",
    "        else :\n",
    "            return np.array([])\n",
    "    except Exception as e:\n",
    "        print(f\"Error : {e}\")\n",
    "        return None"
   ]
  },
  {
   "cell_type": "code",
   "execution_count": 26,
   "metadata": {},
   "outputs": [],
   "source": [
    "image_list_a, label_list = [], []\n",
    "\n",
    "totalImage = 0  # it is used to control total numbe of images for each class\n",
    "\n",
    "root_dir = listdir(\"GroceryStoreDataset-master/dataset/test\") # Specify location of plant images\n",
    "\n",
    "for image_folder in root_dir :  # Look for each folder\n",
    "    # Look for All images in each folder\n",
    "    \n",
    "    \n",
    "    image_list = listdir(f\"GroceryStoreDataset-master/dataset/test/{image_folder}\")\n",
    "    \n",
    "    for image in image_list:\n",
    "               \n",
    "        image_sub_cat = listdir(f\"GroceryStoreDataset-master/dataset/test/{image_folder}/{image}\")\n",
    "    \n",
    "        for image_sub_cat_name in image_sub_cat:\n",
    "        \n",
    "            #print(image_sub_cat_name)\n",
    "            path  = f\"GroceryStoreDataset-master/dataset/test/{image_folder}/{image}/{image_sub_cat_name}\"\n",
    "            if os.path.isdir(path):  \n",
    "                image_sub_cat_name_jpg = listdir(f\"GroceryStoreDataset-master/dataset/test/{image_folder}/{image}/{image_sub_cat_name}\")\n",
    "                for image_name in image_sub_cat_name_jpg:\n",
    "                    #print(image_name)\n",
    "                    if image_name.endswith(\".jpg\") == True or image_name.endswith(\".JPG\") == True:\n",
    "                        image_full_path = f\"GroceryStoreDataset-master/dataset/test/{image_folder}/{image}/{image_sub_cat_name}/{image_name}\"\n",
    "                        image_list_a.append(convert_image_to_array(image_full_path))\n",
    "                    \n",
    "            if os.path.isfile(path):\n",
    "                #print(image_sub_cat_name)\n",
    "                if image_sub_cat_name.endswith(\".jpg\") == True or image_sub_cat_name.endswith(\".JPG\") == True:\n",
    "                        image_full_path = f\"GroceryStoreDataset-master/dataset/test/{image_folder}/{image}/{image_sub_cat_name}\"\n",
    "                        image_list_a.append(convert_image_to_array(image_full_path))\n",
    "                \n",
    "            \n",
    "            #image_sub_cat_name_jpg = listdir(f\"GroceryStoreDataset-master/dataset/test/{image_folder}/{image}/{image_sub_cat_name}\")\n",
    "            #for image_name in image_sub_cat_name_jpg:\n",
    "            #    print(image_name)\n",
    "            \n",
    "            \n",
    "        '''\n",
    "        image_name = f\"PlantVillage/{image_folder}/\"+image\n",
    "        if isinstance(image_name, str) == True:\n",
    "            if image_name.endswith(\".jpg\") == True or image_name.endswith(\".JPG\") == True:\n",
    "                image_list_a.append(convert_image_to_array(image_name))\n",
    "                label_list.append(image_folder)\n",
    "        totalImage = totalImage+1\n",
    "        if(totalImage>=20):          \n",
    "            break\n",
    "       '''     \n",
    "#print(len(label_list),len(np.unique(np.asarray(label_list))))\n"
   ]
  },
  {
   "cell_type": "code",
   "execution_count": 32,
   "metadata": {},
   "outputs": [
    {
     "ename": "MemoryError",
     "evalue": "",
     "output_type": "error",
     "traceback": [
      "\u001b[1;31m---------------------------------------------------------------------------\u001b[0m",
      "\u001b[1;31mMemoryError\u001b[0m                               Traceback (most recent call last)",
      "\u001b[1;32m<ipython-input-32-7fc8b70e7ec5>\u001b[0m in \u001b[0;36m<module>\u001b[1;34m\u001b[0m\n\u001b[1;32m----> 1\u001b[1;33m \u001b[0mimage_list_a\u001b[0m \u001b[1;33m=\u001b[0m \u001b[0mnp\u001b[0m\u001b[1;33m.\u001b[0m\u001b[0masarray\u001b[0m\u001b[1;33m(\u001b[0m\u001b[0mimage_list_a\u001b[0m\u001b[1;33m)\u001b[0m\u001b[1;33m\u001b[0m\u001b[1;33m\u001b[0m\u001b[0m\n\u001b[0m",
      "\u001b[1;32mC:\\ProgramData\\Anaconda3\\lib\\site-packages\\numpy\\core\\numeric.py\u001b[0m in \u001b[0;36masarray\u001b[1;34m(a, dtype, order)\u001b[0m\n\u001b[0;32m    499\u001b[0m \u001b[1;33m\u001b[0m\u001b[0m\n\u001b[0;32m    500\u001b[0m     \"\"\"\n\u001b[1;32m--> 501\u001b[1;33m     \u001b[1;32mreturn\u001b[0m \u001b[0marray\u001b[0m\u001b[1;33m(\u001b[0m\u001b[0ma\u001b[0m\u001b[1;33m,\u001b[0m \u001b[0mdtype\u001b[0m\u001b[1;33m,\u001b[0m \u001b[0mcopy\u001b[0m\u001b[1;33m=\u001b[0m\u001b[1;32mFalse\u001b[0m\u001b[1;33m,\u001b[0m \u001b[0morder\u001b[0m\u001b[1;33m=\u001b[0m\u001b[0morder\u001b[0m\u001b[1;33m)\u001b[0m\u001b[1;33m\u001b[0m\u001b[1;33m\u001b[0m\u001b[0m\n\u001b[0m\u001b[0;32m    502\u001b[0m \u001b[1;33m\u001b[0m\u001b[0m\n\u001b[0;32m    503\u001b[0m \u001b[1;33m\u001b[0m\u001b[0m\n",
      "\u001b[1;31mMemoryError\u001b[0m: "
     ]
    }
   ],
   "source": [
    "image_list_a = np.asarray(image_list_a)"
   ]
  },
  {
   "cell_type": "code",
   "execution_count": 31,
   "metadata": {},
   "outputs": [
    {
     "data": {
      "text/plain": [
       "(2485, 348, 348, 3)"
      ]
     },
     "execution_count": 31,
     "metadata": {},
     "output_type": "execute_result"
    }
   ],
   "source": [
    "a.shape"
   ]
  }
 ],
 "metadata": {
  "kernelspec": {
   "display_name": "Python 3",
   "language": "python",
   "name": "python3"
  },
  "language_info": {
   "codemirror_mode": {
    "name": "ipython",
    "version": 3
   },
   "file_extension": ".py",
   "mimetype": "text/x-python",
   "name": "python",
   "nbconvert_exporter": "python",
   "pygments_lexer": "ipython3",
   "version": "3.7.1"
  }
 },
 "nbformat": 4,
 "nbformat_minor": 2
}
